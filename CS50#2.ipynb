{
 "cells": [
  {
   "cell_type": "markdown",
   "metadata": {},
   "source": [
    "### Exceptional Handling in Python\n",
    "- Value error -  if string is given when we expect a int, so now we use try and except and else\n",
    "-  Name Error - initialization of a variable error\n",
    "- Index Error - we get if list elements is not given like argv[7] but we have only 5 elements.\n",
    "- try and except are statements not a function, function will have ()\n",
    "- we can pass the value if we donot need the unnecessary values to store or give it.\n",
    "- we can use raise to raise our own exceptions, create our own exceptions and raise it as well\n",
    "- string literal is #syntax error\n",
    "\n",
    "#### keyboard shortcut:\n",
    "- select code, cmd+/ comment all selected area\n",
    "- select and tab for indentation of several lines\n",
    "- fn+shift+right arrow - to get to right of the code without disturbing the content in line \n"
   ]
  },
  {
   "cell_type": "code",
   "execution_count": 1,
   "metadata": {},
   "outputs": [
    {
     "name": "stdout",
     "output_type": "stream",
     "text": [
      " x is not an int\n"
     ]
    }
   ],
   "source": [
    "try:\n",
    "    x = int(input(\"get num\"))\n",
    "except ValueError:\n",
    "    print(\" x is not an int\")  \n",
    "else:                           # without else if we typed str insted of int, x will not get value - Name error\n",
    "    print(f\" x is {x}\")"
   ]
  },
  {
   "cell_type": "code",
   "execution_count": 2,
   "metadata": {},
   "outputs": [
    {
     "name": "stdout",
     "output_type": "stream",
     "text": [
      " x is 23\n"
     ]
    }
   ],
   "source": [
    "# the above is not user friendly, so we can improve by asks question repeatedly, using loops to users\n",
    "while True: \n",
    "    try:\n",
    "        x = int(input(\"get num\"))\n",
    "    except ValueError:\n",
    "        print(\" x is not an int\")  \n",
    "    else:                          \n",
    "        break\n",
    "\n",
    "print(f\" x is {x}\")\n"
   ]
  },
  {
   "cell_type": "code",
   "execution_count": 3,
   "metadata": {},
   "outputs": [
    {
     "name": "stdout",
     "output_type": "stream",
     "text": [
      " x is not an int\n"
     ]
    },
    {
     "data": {
      "text/plain": [
       "23"
      ]
     },
     "execution_count": 3,
     "metadata": {},
     "output_type": "execute_result"
    }
   ],
   "source": [
    "# If we need to use a function, we should return the values as well\n",
    "\n",
    "def get_name():\n",
    "    while True: \n",
    "        try:\n",
    "            x = int(input(\"get num\"))\n",
    "        except ValueError:\n",
    "            print(\" x is not an int\")  \n",
    "        else:                          \n",
    "            break\n",
    "    return x\n",
    "\n",
    "get_name()"
   ]
  },
  {
   "cell_type": "code",
   "execution_count": 4,
   "metadata": {},
   "outputs": [
    {
     "name": "stdout",
     "output_type": "stream",
     "text": [
      "integer is 23\n"
     ]
    }
   ],
   "source": [
    "# Handle exception and pass the value, catch and pass we dont need the value\n",
    "\n",
    "def main():\n",
    "    inte = get_inte()\n",
    "    print(f\"integer is {inte}\")\n",
    "\n",
    "def get_inte():\n",
    "    while True: \n",
    "        try:\n",
    "            return(int(input(\"get num\")))\n",
    "        except ValueError:\n",
    "            pass    # if not needed to get all the unnecessary values to store it.\n",
    "\n",
    "main()"
   ]
  },
  {
   "cell_type": "code",
   "execution_count": 10,
   "metadata": {},
   "outputs": [
    {
     "name": "stdout",
     "output_type": "stream",
     "text": [
      "integer is 23\n"
     ]
    }
   ],
   "source": [
    "# if needed we can use main function with this as well\n",
    "\n",
    "def main():\n",
    "    inte = get_inte()\n",
    "    print(f\"integer is {inte}\")\n",
    "\n",
    "def get_inte():\n",
    "    while True: \n",
    "        try:\n",
    "            x = int(input(\"get num\"))\n",
    "        except ValueError:\n",
    "            print(\" x is not an int\")  \n",
    "        else:                          \n",
    "            return x      # return will break and then return value\n",
    "\n",
    "\n",
    "main()\n"
   ]
  },
  {
   "cell_type": "markdown",
   "metadata": {},
   "source": [
    "#### Libraries in Python\n",
    "\n",
    "- modules that can be imported like random, from - used for the specific import \n",
    "- random.choice(seq)\n",
    "- random.randint(a,b) - random int from a and b inclusievely (1,10) # 1,2,..10.\n",
    "- import statistics and use the stats like mean, etc\n",
    "- we can even make the fixed probablity as well like a =0.65 b = 0.3 and c = 0.35 like this by own fn\n"
   ]
  },
  {
   "cell_type": "code",
   "execution_count": 5,
   "metadata": {},
   "outputs": [
    {
     "name": "stdout",
     "output_type": "stream",
     "text": [
      "heads\n"
     ]
    }
   ],
   "source": [
    "import random\n",
    "#from random import choice  # name of the function explicitly, to scope the variables that is used to get the module\n",
    "\n",
    "coin = random.choice([\"heads\", \"tail\"])\n",
    "\n",
    "print(coin)"
   ]
  },
  {
   "cell_type": "code",
   "execution_count": 6,
   "metadata": {},
   "outputs": [
    {
     "name": "stdout",
     "output_type": "stream",
     "text": [
      "1\n"
     ]
    }
   ],
   "source": [
    "gen = random.randint(1,10)\n",
    "print(gen)"
   ]
  },
  {
   "cell_type": "code",
   "execution_count": 7,
   "metadata": {},
   "outputs": [
    {
     "name": "stdout",
     "output_type": "stream",
     "text": [
      "king\n",
      "queen\n",
      "jack\n"
     ]
    }
   ],
   "source": [
    "import random\n",
    "\n",
    "cards = [\"jack\",\"queen\",\"king\"]\n",
    "random.shuffle(cards)\n",
    "\n",
    "for card in cards:     # print all 3 in shuffled order as per the list\n",
    "    print(card)"
   ]
  },
  {
   "cell_type": "code",
   "execution_count": 8,
   "metadata": {},
   "outputs": [
    {
     "name": "stdout",
     "output_type": "stream",
     "text": [
      "94.5\n"
     ]
    }
   ],
   "source": [
    "import statistics as sts\n",
    "\n",
    "print(sts.mean([98,91]))  # return value through print fn"
   ]
  },
  {
   "cell_type": "markdown",
   "metadata": {},
   "source": [
    "#### Command line arguments (args)\n",
    "\n",
    "- After the prgm is given to execute like python hello.py, we can give the args here and it takes as the input for code that is cd line arguments.\n",
    "- new module sys is used, and it has lot more functionality \n",
    "- sys.argv is argument vector that is list of words typed before prgm runs\n",
    "- sys.argv is a list\n",
    "- the list started from sys.argv[1] element, where the [0] contains the name of prgm like name.py\n",
    "- will get an Index error so should handle it if args are not provided.\n",
    "- sys.exit print msg and exit and run again so we can run seperately.\n",
    "- using cmd line args is for fast automation.\n",
    "##### PACKAGES\n",
    "- we have packages like 3rd partty libraries can call module and install it and use it directly.like PYPI website\n",
    "- Pypi.org has all pacakges, cowsay on screen \n",
    "- package manager called and we can install pip, pip install cowsay"
   ]
  },
  {
   "cell_type": "code",
   "execution_count": 11,
   "metadata": {},
   "outputs": [
    {
     "name": "stdout",
     "output_type": "stream",
     "text": [
      "my name is --f=/Users/bhuvanakorrapati/Library/Jupyter/runtime/kernel-v3c704a2a6756be02b39e85d8c1c2cc46ee48354d9.json\n"
     ]
    }
   ],
   "source": [
    "# prgm for directly print the given list of names for printer maybe, where the list is given in cmd line\n",
    "\n",
    "import sys\n",
    "try: \n",
    "    print(\"my name is\", sys.argv[1])\n",
    "except:\n",
    "    print(\"too feew args\")"
   ]
  },
  {
   "cell_type": "code",
   "execution_count": 13,
   "metadata": {},
   "outputs": [
    {
     "name": "stdout",
     "output_type": "stream",
     "text": [
      "name is --f=/Users/bhuvanakorrapati/Library/Jupyter/runtime/kernel-v3c704a2a6756be02b39e85d8c1c2cc46ee48354d9.json\n"
     ]
    }
   ],
   "source": [
    "# can use the if ststements instead of handling exceptions\n",
    "\n",
    "if len(sys.argv) < 2:\n",
    "    print(\"too less args\")\n",
    "elif len(sys.argv) > 2:\n",
    "    print(\"too many\")\n",
    "else: print(\"name is\", sys.argv[1])"
   ]
  },
  {
   "cell_type": "code",
   "execution_count": 15,
   "metadata": {},
   "outputs": [
    {
     "name": "stdout",
     "output_type": "stream",
     "text": [
      "name is --f=/Users/bhuvanakorrapati/Library/Jupyter/runtime/kernel-v3c704a2a6756be02b39e85d8c1c2cc46ee48354d9.json\n"
     ]
    }
   ],
   "source": [
    "# sys.exit print msg and exit and run again so we can run seperately.\n",
    "\n",
    "if len(sys.argv) < 2:\n",
    "    sys.exit(\"too less args\")\n",
    "elif len(sys.argv) > 2:\n",
    "    sys.exit(\"too many\")\n",
    "    \n",
    "print(\"name is\", sys.argv[1])"
   ]
  },
  {
   "cell_type": "code",
   "execution_count": null,
   "metadata": {},
   "outputs": [
    {
     "name": "stdout",
     "output_type": "stream",
     "text": [
      "/Users/bhuvanakorrapati/Library/Python/3.9/lib/python/site-packages/ipykernel_launcher.py\n",
      "--f=/Users/bhuvanakorrapati/Library/Jupyter/runtime/kernel-v3c704a2a6756be02b39e85d8c1c2cc46ee48354d9.json\n"
     ]
    }
   ],
   "source": [
    "# for multiple args to print use for loop\n",
    " \n",
    "if len(sys.argv) < 2:\n",
    "   sys.exit(\"too less argv\")\n",
    "for arg in sys.argv: # but here we get name.py as well along with the 3 names \n",
    "   print(arg)"
   ]
  },
  {
   "cell_type": "code",
   "execution_count": null,
   "metadata": {},
   "outputs": [
    {
     "name": "stdout",
     "output_type": "stream",
     "text": [
      "--f=/Users/bhuvanakorrapati/Library/Jupyter/runtime/kernel-v3c704a2a6756be02b39e85d8c1c2cc46ee48354d9.json\n"
     ]
    }
   ],
   "source": [
    "# use slicing to get only names\n",
    "\n",
    "if len(sys.argv) < 2:\n",
    "   sys.exit(\"too less argv\")\n",
    "for arg in sys.argv[1:]:  # [1:-1] - print in reverse order \n",
    "   print(arg)"
   ]
  },
  {
   "cell_type": "code",
   "execution_count": 24,
   "metadata": {},
   "outputs": [
    {
     "name": "stdout",
     "output_type": "stream",
     "text": [
      "Defaulting to user installation because normal site-packages is not writeable\n",
      "Requirement already satisfied: cowsay in /Users/bhuvanakorrapati/Library/Python/3.9/lib/python/site-packages (6.1)\n",
      "\u001b[33mWARNING: You are using pip version 21.2.4; however, version 24.3.1 is available.\n",
      "You should consider upgrading via the '/Library/Developer/CommandLineTools/usr/bin/python3 -m pip install --upgrade pip' command.\u001b[0m\n",
      "Note: you may need to restart the kernel to use updated packages.\n"
     ]
    }
   ],
   "source": [
    "pip install cowsay\n"
   ]
  },
  {
   "cell_type": "code",
   "execution_count": null,
   "metadata": {},
   "outputs": [
    {
     "name": "stdout",
     "output_type": "stream",
     "text": [
      "  _________\n",
      "| hello bhu |\n",
      "  =========\n",
      "         \\\n",
      "          \\\n",
      "            ^__^\n",
      "            (oo)\\_______\n",
      "            (__)\\       )\\/\\\n",
      "                ||----w |\n",
      "                ||     ||\n"
     ]
    }
   ],
   "source": [
    "import cowsay  # ascii art to print with keyboard keys\n",
    "\n",
    "cowsay.cow(\"hello bhu\") # trex another function for dianosour"
   ]
  },
  {
   "cell_type": "markdown",
   "metadata": {},
   "source": [
    "##### API Requests in JSON \n",
    "- packages for API's, browser connects to server and download data and incorporate it.\n",
    "- requests library for APIs # in pypi/org/project/request\n",
    "- JSON MAINLY - JAVA SCRIPT OBJECT NOTATION \n",
    "- we can get the data from another server and integrate it into ours using API's\n",
    "- python response converts json to dictionary"
   ]
  },
  {
   "cell_type": "code",
   "execution_count": null,
   "metadata": {},
   "outputs": [
    {
     "name": "stderr",
     "output_type": "stream",
     "text": [
      "/Users/bhuvanakorrapati/Library/Python/3.9/lib/python/site-packages/urllib3/__init__.py:35: NotOpenSSLWarning: urllib3 v2 only supports OpenSSL 1.1.1+, currently the 'ssl' module is compiled with 'LibreSSL 2.8.3'. See: https://github.com/urllib3/urllib3/issues/3020\n",
      "  warnings.warn(\n"
     ]
    }
   ],
   "source": [
    "import sys\n",
    "import requests\n",
    "import json\n",
    "\n",
    "# \"https://itunes.apple.com/search?ntity=song&limit=50&term=\"\n",
    "\n",
    "if len(sys.argv) < 2:\n",
    "    sys.exit()     # donot use break, break loops but sys.exit terminate whole program.\n",
    "\n",
    "response = requests.get(\"http link\", sys.argv[1])     # it has weezer in args[1]\n",
    "print(json.dumps(response.json(), indent = 2))    # using json library for clear data  \n",
    "\n",
    "# returns a dict, then py lists of dict and has inside result we have traker id \n",
    "\n",
    "req_obj = response.json()\n",
    "\n",
    "for result in req_obj[\"results\"]:   # we have key result and it is list, then it has another key trakerName \n",
    "    print(result[\"trackName\"])\n"
   ]
  },
  {
   "cell_type": "markdown",
   "metadata": {},
   "source": [
    "- Making our own libraries for code reusability, if we need to copy and paste again\n",
    "- we can bundle up code we reuse and make own module in local or cloud or go through and make open source in pipy\n",
    "- if __name__ == \"__main__\": special variable automatically set by main by running through cmd line"
   ]
  },
  {
   "cell_type": "code",
   "execution_count": null,
   "metadata": {},
   "outputs": [
    {
     "name": "stdout",
     "output_type": "stream",
     "text": [
      "helloworld\n",
      "goodbyeworld\n"
     ]
    }
   ],
   "source": [
    "def main():\n",
    "    hello(\"world\")\n",
    "    goodbye(\"world\")\n",
    "\n",
    "def hello(name):\n",
    "    print(f\"hello{name}\")\n",
    "\n",
    "def goodbye(name):\n",
    "    print(f\"goodbye{name}\")\n",
    "\n",
    "if __name__ == \"__main__\":\n",
    "    main()\n",
    "\n",
    "# save it saying.py"
   ]
  },
  {
   "cell_type": "code",
   "execution_count": null,
   "metadata": {},
   "outputs": [
    {
     "name": "stdout",
     "output_type": "stream",
     "text": [
      "hello--f=/Users/bhuvanakorrapati/Library/Jupyter/runtime/kernel-v35bc4b6c3986ea5577c65fcdb388a27fb522b1dfd.json\n"
     ]
    }
   ],
   "source": [
    "import sys \n",
    "\n",
    "from saying import hello\n",
    "\n",
    "if len(sys.argv) == 2:\n",
    "    hello(sys.argv[1])\n"
   ]
  },
  {
   "cell_type": "code",
   "execution_count": null,
   "metadata": {},
   "outputs": [],
   "source": []
  }
 ],
 "metadata": {
  "kernelspec": {
   "display_name": "Python 3",
   "language": "python",
   "name": "python3"
  },
  "language_info": {
   "codemirror_mode": {
    "name": "ipython",
    "version": 3
   },
   "file_extension": ".py",
   "mimetype": "text/x-python",
   "name": "python",
   "nbconvert_exporter": "python",
   "pygments_lexer": "ipython3",
   "version": "3.9.6"
  }
 },
 "nbformat": 4,
 "nbformat_minor": 2
}
