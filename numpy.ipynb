{
 "cells": [
  {
   "cell_type": "code",
   "execution_count": null,
   "metadata": {},
   "outputs": [
    {
     "name": "stdout",
     "output_type": "stream",
     "text": [
      "[[2 3 1]\n",
      " [4 2 1]\n",
      " [2 3 1]]\n"
     ]
    }
   ],
   "source": [
    "# Initialize the matrix\n",
    "\n",
    "import numpy as np\n",
    "\n",
    "A = np.array([[2, 3, 1],\n",
    "              [4, 2, 1],\n",
    "              [2, 3, 1]])\n",
    "\n",
    "print(A)"
   ]
  },
  {
   "cell_type": "code",
   "execution_count": null,
   "metadata": {},
   "outputs": [
    {
     "name": "stdout",
     "output_type": "stream",
     "text": [
      "[[4 6 2]\n",
      " [5 4 2]\n",
      " [4 6 2]]\n"
     ]
    }
   ],
   "source": [
    "\n",
    "\n",
    "\n",
    "\n",
    "A = np.array([[2, 3, 1],\n",
    "              [4, 2, 1],\n",
    "              [2, 3, 1]])\n",
    "B = np.array([[2, 3, 1],\n",
    "              [1, 2, 1],\n",
    "              [2, 3, 1]])\n",
    "\n",
    "print(A + B)"
   ]
  },
  {
   "cell_type": "code",
   "execution_count": null,
   "metadata": {},
   "outputs": [
    {
     "name": "stdout",
     "output_type": "stream",
     "text": [
      "[[ 9 15  6]\n",
      " [12 19  7]\n",
      " [ 9 15  6]]\n"
     ]
    }
   ],
   "source": [
    "# matrix multiplication\n",
    "\n",
    "A = np.array([[2, 3, 1],\n",
    "              [4, 2, 1],\n",
    "              [2, 3, 1]])\n",
    "B = np.array([[2, 3, 1],\n",
    "              [1, 2, 1],\n",
    "              [2, 3, 1]])\n",
    "\n",
    "print(A.dot(B)) # A@B HIGHER VERSION OF PYTHON "
   ]
  },
  {
   "cell_type": "code",
   "execution_count": 3,
   "metadata": {},
   "outputs": [
    {
     "name": "stdout",
     "output_type": "stream",
     "text": [
      "[[-0.14666667 -0.05333333  0.17333333]\n",
      " [ 0.32       -0.02       -0.06      ]\n",
      " [ 0.01333333  0.18666667 -0.10666667]]\n"
     ]
    }
   ],
   "source": [
    "# Matrix Inversion # linear algebra in numpy for inverse \n",
    "\n",
    "import numpy as np\n",
    "\n",
    "A = np.array([[2, 4, 1],\n",
    "              [5, 2, 7],\n",
    "              [9, 4, 3]])\n",
    "\n",
    "print( np.linalg.inv(A) )  # it will get an error for singular matrix\n"
   ]
  },
  {
   "cell_type": "code",
   "execution_count": 4,
   "metadata": {},
   "outputs": [
    {
     "name": "stdout",
     "output_type": "stream",
     "text": [
      "[[4 9 1]\n",
      " [4 4 1]\n",
      " [4 9 1]]\n"
     ]
    }
   ],
   "source": [
    "# Element wise multiplication\n",
    "\n",
    "A = np.array([[2, 3, 1],\n",
    "              [4, 2, 1],\n",
    "              [2, 3, 1]])\n",
    "\n",
    "B = np.array([[2, 3, 1],\n",
    "              [1, 2, 1],\n",
    "              [2, 3, 1]])\n",
    "\n",
    "print( A * B)"
   ]
  },
  {
   "cell_type": "code",
   "execution_count": 6,
   "metadata": {},
   "outputs": [
    {
     "name": "stdout",
     "output_type": "stream",
     "text": [
      "[ 6.40512484e+00 -1.40512484e+00  8.55045880e-17]\n"
     ]
    }
   ],
   "source": [
    "# Eigen values \n",
    "\n",
    "A = np.array([[2, 3, 1],\n",
    "              [4, 2, 1],\n",
    "              [2, 3, 1]])\n",
    "\n",
    "print( np.linalg.eigvals(A) )"
   ]
  },
  {
   "cell_type": "code",
   "execution_count": null,
   "metadata": {},
   "outputs": [],
   "source": []
  }
 ],
 "metadata": {
  "kernelspec": {
   "display_name": "Python 3",
   "language": "python",
   "name": "python3"
  },
  "language_info": {
   "codemirror_mode": {
    "name": "ipython",
    "version": 3
   },
   "file_extension": ".py",
   "mimetype": "text/x-python",
   "name": "python",
   "nbconvert_exporter": "python",
   "pygments_lexer": "ipython3",
   "version": "3.9.6"
  }
 },
 "nbformat": 4,
 "nbformat_minor": 2
}
