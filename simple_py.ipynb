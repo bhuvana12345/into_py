{
 "cells": [
  {
   "cell_type": "markdown",
   "metadata": {},
   "source": [
    "#### Prime or not"
   ]
  },
  {
   "cell_type": "code",
   "execution_count": 5,
   "metadata": {},
   "outputs": [
    {
     "name": "stdout",
     "output_type": "stream",
     "text": [
      "prime\n"
     ]
    }
   ],
   "source": [
    "num = int(input(\"num\"))\n",
    "count = 0\n",
    "\n",
    "for i in range(1, num+1):  # here starting from 0 so we should definetly mention 1 to n+1 or else error\n",
    "    if(num%i)==0:\n",
    "        count = count+1\n",
    "    \n",
    "if(count ==2):\n",
    "    print(\"prime\")\n",
    "else:\n",
    "    print(\"not prime\")\n"
   ]
  },
  {
   "cell_type": "markdown",
   "metadata": {},
   "source": [
    "#### Using recursive approach for the factorial "
   ]
  },
  {
   "cell_type": "code",
   "execution_count": 13,
   "metadata": {},
   "outputs": [
    {
     "data": {
      "text/plain": [
       "479001600"
      ]
     },
     "execution_count": 13,
     "metadata": {},
     "output_type": "execute_result"
    }
   ],
   "source": [
    "def fact(n):\n",
    "    if (n == 0 or n == 1):\n",
    "        return 1\n",
    "    else:\n",
    "        return n * fact(n-1)\n",
    "\n",
    "\n",
    "\n",
    "\n",
    "n = int(input(\"get num\"))\n",
    "fact(n)\n",
    "\n"
   ]
  },
  {
   "cell_type": "markdown",
   "metadata": {},
   "source": [
    "#### Fibanocci, 0,1,1,2,3,5,8...."
   ]
  },
  {
   "cell_type": "code",
   "execution_count": null,
   "metadata": {},
   "outputs": [
    {
     "name": "stdout",
     "output_type": "stream",
     "text": [
      "1\n",
      "2\n",
      "3\n",
      "5\n",
      "8\n",
      "13\n",
      "21\n",
      "34\n"
     ]
    }
   ],
   "source": [
    "n1 = 0\n",
    "n2 = 1        ### if required print these n1 and n2 as well\n",
    "\n",
    "for i in range(2,10):\n",
    "    sum = n1+n2\n",
    "    print(sum)\n",
    "    n1 = n2\n",
    "    n2 = sum\n",
    "\n"
   ]
  },
  {
   "cell_type": "code",
   "execution_count": 17,
   "metadata": {},
   "outputs": [
    {
     "name": "stdout",
     "output_type": "stream",
     "text": [
      "[5, 3, 4, 1]\n"
     ]
    }
   ],
   "source": [
    "## swap elements 1st and last\n",
    "\n",
    "mylist = [1,3,4,5]\n",
    "\n",
    "mylist[0], mylist[-1] = mylist[-1], mylist[0]\n",
    "\n",
    "print(mylist)"
   ]
  },
  {
   "cell_type": "markdown",
   "metadata": {},
   "source": [
    "#### Remove nth occurance of word if repeated"
   ]
  },
  {
   "cell_type": "code",
   "execution_count": 28,
   "metadata": {},
   "outputs": [
    {
     "name": "stdout",
     "output_type": "stream",
     "text": [
      "['bhu', 'rah']\n"
     ]
    }
   ],
   "source": [
    "my_list = [\"bhu\", \"rah\", \"bhu\"]\n",
    "words = \"bhu\"\n",
    "n = 2\n",
    "\n",
    "# Create a new list excluding the nth occurrence of `words`\n",
    "new_list = []\n",
    "count = 0\n",
    "for word in my_list:\n",
    "    if word == words:\n",
    "        count += 1\n",
    "        if count == n:\n",
    "            continue  # Skip the nth occurrence\n",
    "    new_list.append(word)\n",
    "\n",
    "print(new_list)\n"
   ]
  },
  {
   "cell_type": "markdown",
   "metadata": {},
   "source": [
    "#### Check for the duplicates using hash map"
   ]
  },
  {
   "cell_type": "code",
   "execution_count": 33,
   "metadata": {},
   "outputs": [
    {
     "data": {
      "text/plain": [
       "True"
      ]
     },
     "execution_count": 33,
     "metadata": {},
     "output_type": "execute_result"
    }
   ],
   "source": [
    "def duplicates(nums):\n",
    "    hashset = set()\n",
    "\n",
    "    for i in nums:\n",
    "        if i in hashset:\n",
    "            return True\n",
    "        else:\n",
    "            hashset.add(i)\n",
    "    return False\n",
    "\n",
    "\n",
    "nums = [1,2,4,5,1]\n",
    "duplicates(nums)\n"
   ]
  },
  {
   "cell_type": "code",
   "execution_count": null,
   "metadata": {},
   "outputs": [],
   "source": []
  }
 ],
 "metadata": {
  "kernelspec": {
   "display_name": "Python 3",
   "language": "python",
   "name": "python3"
  },
  "language_info": {
   "codemirror_mode": {
    "name": "ipython",
    "version": 3
   },
   "file_extension": ".py",
   "mimetype": "text/x-python",
   "name": "python",
   "nbconvert_exporter": "python",
   "pygments_lexer": "ipython3",
   "version": "3.9.6"
  }
 },
 "nbformat": 4,
 "nbformat_minor": 2
}
