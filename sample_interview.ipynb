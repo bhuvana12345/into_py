{
 "cells": [
  {
   "cell_type": "markdown",
   "metadata": {},
   "source": [
    "#### Check for the common letters in two strings"
   ]
  },
  {
   "cell_type": "code",
   "execution_count": 2,
   "metadata": {},
   "outputs": [
    {
     "name": "stdout",
     "output_type": "stream",
     "text": [
      "{'h', 'a', 'u'}\n"
     ]
    }
   ],
   "source": [
    "\n",
    "def common_letter():\n",
    "\n",
    "    str1 = input(\"enter str1\")\n",
    "    str2 = input(\"enter str2\")\n",
    "    # for getting the no duplicate values we need to send it to set \n",
    "\n",
    "    s1 = set(str1)\n",
    "    s2 = set(str2)\n",
    "    # use & operator as AND to get in result \n",
    "\n",
    "    print(s1 & s2)\n",
    "\n",
    "common_letter()\n",
    "\n",
    "# bhuvana, rahul common letters are hau\n",
    "\n"
   ]
  },
  {
   "cell_type": "markdown",
   "metadata": {},
   "source": [
    "#### Check the frequency of words in a sentence"
   ]
  },
  {
   "cell_type": "code",
   "execution_count": null,
   "metadata": {},
   "outputs": [
    {
     "name": "stdout",
     "output_type": "stream",
     "text": [
      "{'bhuvana': 1, 'is': 2, 'a': 1, 'good': 2, 'girl,': 1, 'she': 1, 'very': 1}\n"
     ]
    }
   ],
   "source": [
    "def frequency():\n",
    "    str = input(\"enter the sentence\")\n",
    "    lis = str.split()\n",
    "\n",
    "    d ={}\n",
    "\n",
    "    for i in lis:\n",
    "        if i not in d.keys():\n",
    "            d[i] = 0\n",
    "        d[i] = d[i] + 1\n",
    "    print(d)\n",
    "\n",
    "frequency() # bhu is good, she is good, get frequency in dict.\n",
    "\n"
   ]
  },
  {
   "cell_type": "markdown",
   "metadata": {},
   "source": [
    "#### Convert list to dict "
   ]
  },
  {
   "cell_type": "code",
   "execution_count": null,
   "metadata": {},
   "outputs": [
    {
     "name": "stdout",
     "output_type": "stream",
     "text": [
      "{'bhu': '23', 'rah': '25'}\n"
     ]
    }
   ],
   "source": [
    "def list_to_dict():\n",
    "    num_items = int(input(\"get how many items\"))\n",
    "\n",
    "    names = []\n",
    "    for i in range(num_items):\n",
    "        name = input(\"name\")\n",
    "        names.append(name)\n",
    "\n",
    "    values = []\n",
    "    for i in range(num_items):\n",
    "        value = input(\"values\")\n",
    "        values.append(value)\n",
    "\n",
    "    result = dict(zip(names, values))\n",
    "    print(result)\n",
    "\n",
    "list_to_dict()\n"
   ]
  },
  {
   "cell_type": "markdown",
   "metadata": {},
   "source": [
    "#### Convert dict to tuple\n"
   ]
  },
  {
   "cell_type": "code",
   "execution_count": 9,
   "metadata": {},
   "outputs": [
    {
     "name": "stdout",
     "output_type": "stream",
     "text": [
      "('bhu', '23')\n",
      "('rah', '25')\n"
     ]
    }
   ],
   "source": [
    "def dict_to_tup():\n",
    "    values =  {'bhu': '23', 'rah': '25'}\n",
    "    for i in values.items():\n",
    "        print(i)\n",
    "\n",
    "dict_to_tup()"
   ]
  },
  {
   "cell_type": "code",
   "execution_count": 12,
   "metadata": {},
   "outputs": [
    {
     "name": "stdout",
     "output_type": "stream",
     "text": [
      "4\n"
     ]
    }
   ],
   "source": [
    "## get the missing values from the list of numbers \n",
    "\n",
    "def summation():\n",
    "    n = int(input(\"get the no of numbers\"))\n",
    "\n",
    "    nums = [1, 2, 3, 5]\n",
    "\n",
    "    # for i in range(len(num)):\n",
    "    #     num  = int(input(num))\n",
    "    #     nums.append(num)\n",
    "\n",
    "    sum1 = 0\n",
    "\n",
    "    sum1 = sum(nums)\n",
    "\n",
    "    total = n*(n+1)//2\n",
    "\n",
    "    print(total - sum1)\n",
    "\n",
    "summation()\n",
    "    \n",
    "    "
   ]
  },
  {
   "cell_type": "markdown",
   "metadata": {},
   "source": [
    "#### get the elements for sum of array we can use hash map or sort and check for sum\n",
    "\n",
    "#### time complexity O( n log n)"
   ]
  },
  {
   "cell_type": "code",
   "execution_count": 15,
   "metadata": {},
   "outputs": [
    {
     "name": "stdout",
     "output_type": "stream",
     "text": [
      "the arr num are 6 and 7\n"
     ]
    }
   ],
   "source": [
    "def getarr(arr, sum):\n",
    "    arr.sort()\n",
    "    left = 0\n",
    "    right = len(arr) - 1\n",
    "    while(left <= right):\n",
    "        if(arr[left] + arr[right] > sum):\n",
    "            right = right - 1\n",
    "\n",
    "        elif(arr[left] + arr[right] < sum):\n",
    "            left = left+1\n",
    "            \n",
    "        elif(arr[left] + arr[right == sum]):\n",
    "            print(f\"the arr num are {arr[left]} and {arr[right]}\")\n",
    "            right = right -1\n",
    "            left = left+1\n",
    "\n",
    "arr = [4, 3, 6, 2, 7, 8]\n",
    "sum = 13\n",
    "getarr(arr, sum)\n",
    "\n",
    "\n"
   ]
  },
  {
   "cell_type": "markdown",
   "metadata": {},
   "source": [
    "#### min difference between array "
   ]
  },
  {
   "cell_type": "code",
   "execution_count": 23,
   "metadata": {},
   "outputs": [
    {
     "name": "stdout",
     "output_type": "stream",
     "text": [
      "the array elemts as 19 and 12\n",
      "the array elemts as 24 and 19\n",
      "the array elemts as 34 and 24\n",
      "the array elemts as 39 and 34\n",
      "the array elemts as 43 and 39\n",
      "the array elemts as 65 and 43\n"
     ]
    },
    {
     "data": {
      "text/plain": [
       "4"
      ]
     },
     "execution_count": 23,
     "metadata": {},
     "output_type": "execute_result"
    }
   ],
   "source": [
    "def min_arr(arr):\n",
    "    arr.sort()\n",
    "    size = len(arr)\n",
    "    diff = 1000\n",
    "\n",
    "    for i in range(len(arr) - 1):\n",
    "        if(arr[i+1] - arr[i] < diff):\n",
    "            diff = arr[i+1] - arr[i]\n",
    "        print(f\"the array elemts as {arr[i+1]} and {arr[i]}\")\n",
    "    return diff\n",
    " \n",
    "\n",
    "arr = [12, 65, 34, 24, 39, 43, 19]\n",
    "\n",
    "min_arr(arr)\n",
    "      \n"
   ]
  },
  {
   "cell_type": "code",
   "execution_count": 25,
   "metadata": {},
   "outputs": [
    {
     "name": "stdout",
     "output_type": "stream",
     "text": [
      "the array elemts as 19 and 12\n",
      "the array elemts as 24 and 19\n",
      "the array elemts as 34 and 24\n",
      "the array elemts as 39 and 34\n",
      "the array elemts as 43 and 39\n",
      "the array elemts as 55 and 43\n"
     ]
    },
    {
     "data": {
      "text/plain": [
       "12"
      ]
     },
     "execution_count": 25,
     "metadata": {},
     "output_type": "execute_result"
    }
   ],
   "source": [
    "def max_arr(arr):\n",
    "    arr.sort()\n",
    "    size = len(arr)\n",
    "    diff = 0\n",
    "\n",
    "    for i in range(len(arr) - 1):\n",
    "        if(arr[i+1] - arr[i] > diff):\n",
    "            diff = arr[i+1] - arr[i]\n",
    "        print(f\"the array elemts as {arr[i+1]} and {arr[i]}\")\n",
    "    return diff\n",
    " \n",
    "\n",
    "arr = [12, 55, 34, 24, 39, 43, 19]\n",
    "\n",
    "max_arr(arr)\n",
    "      \n"
   ]
  },
  {
   "cell_type": "markdown",
   "metadata": {},
   "source": [
    "#### Stack to get the postfix notation, if num push and if operator pop last two num and do operator and push, last pop element form top"
   ]
  },
  {
   "cell_type": "code",
   "execution_count": 35,
   "metadata": {},
   "outputs": [
    {
     "data": {
      "text/plain": [
       "15"
      ]
     },
     "execution_count": 35,
     "metadata": {},
     "output_type": "execute_result"
    }
   ],
   "source": [
    "def stac(arr):\n",
    "    stack = []\n",
    "    operator = [\"+\", \"-\", \"*\"]\n",
    "\n",
    "    for i in arr:\n",
    "        if i not in operator:\n",
    "            stack.append((i))\n",
    "        else:\n",
    "            first = int(stack.pop())\n",
    "            sec = int(stack.pop())\n",
    "\n",
    "            if i == \"+\":\n",
    "                stack.append(first + sec)\n",
    "            elif i == \"-\":\n",
    "                stack.append(first - sec)\n",
    "            elif i == \"*\":\n",
    "                stack.append(first * sec)\n",
    "    return stack[-1]\n",
    "\n",
    "arr = [\"2\", \"3\", \"+\", \"3\", \"*\"]\n",
    "\n",
    "stac(arr)\n",
    "    \n"
   ]
  },
  {
   "cell_type": "markdown",
   "metadata": {},
   "source": [
    "#### length of last word"
   ]
  },
  {
   "cell_type": "code",
   "execution_count": 37,
   "metadata": {},
   "outputs": [
    {
     "name": "stdout",
     "output_type": "stream",
     "text": [
      "4\n"
     ]
    }
   ],
   "source": [
    "def len_of_last():\n",
    "    sen = input(\"get sentence\")\n",
    "    arr = sen.split(\" \")\n",
    "    word = arr[-1]\n",
    "    print(len(word))\n",
    "\n",
    "len_of_last()"
   ]
  },
  {
   "cell_type": "markdown",
   "metadata": {},
   "source": [
    "#### Remove duplicates from sorted array"
   ]
  },
  {
   "cell_type": "code",
   "execution_count": null,
   "metadata": {},
   "outputs": [
    {
     "data": {
      "text/plain": [
       "[1, 2, 3, 4, 5, 6]"
      ]
     },
     "execution_count": 38,
     "metadata": {},
     "output_type": "execute_result"
    }
   ],
   "source": [
    "def remove(arr):      # this can be sloved in two ways O(n) using additional temp array and O(1) as below.\n",
    "    n = len(arr)\n",
    "    pivot = 0\n",
    "\n",
    "    for i in range(n-1):\n",
    "        if arr[i] != arr[i+1]:\n",
    "            arr[pivot] = arr[i]\n",
    "            pivot = pivot +1\n",
    "    arr[pivot] = arr[n-1]\n",
    "    return arr[0:pivot+1]\n",
    "\n",
    "arr =[1,1,2,2,2,3,3,4,4,5,6]\n",
    "\n",
    "remove(arr)\n",
    "        \n",
    "\n"
   ]
  },
  {
   "cell_type": "code",
   "execution_count": null,
   "metadata": {},
   "outputs": [],
   "source": []
  }
 ],
 "metadata": {
  "kernelspec": {
   "display_name": "Python 3",
   "language": "python",
   "name": "python3"
  },
  "language_info": {
   "codemirror_mode": {
    "name": "ipython",
    "version": 3
   },
   "file_extension": ".py",
   "mimetype": "text/x-python",
   "name": "python",
   "nbconvert_exporter": "python",
   "pygments_lexer": "ipython3",
   "version": "3.9.6"
  }
 },
 "nbformat": 4,
 "nbformat_minor": 2
}
