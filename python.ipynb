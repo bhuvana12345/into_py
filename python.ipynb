{
 "cells": [
  {
   "cell_type": "markdown",
   "metadata": {},
   "source": [
    "#### GET STARTED WITH PYTHON \n",
    "##### DATA TYPES, LOOPS, FUNCTIONS, OOPS"
   ]
  },
  {
   "cell_type": "code",
   "execution_count": null,
   "metadata": {},
   "outputs": [
    {
     "name": "stdout",
     "output_type": "stream",
     "text": [
      "7\n"
     ]
    }
   ],
   "source": [
    "# GET int input from user \n",
    "\n",
    "x = input(\"get x\")\n",
    "y = input(\"get y\")\n",
    "\n",
    "z = int(x)+int(y)\n",
    "print(z)"
   ]
  },
  {
   "cell_type": "code",
   "execution_count": null,
   "metadata": {},
   "outputs": [
    {
     "name": "stdout",
     "output_type": "stream",
     "text": [
      "hello, bhu\n"
     ]
    }
   ],
   "source": [
    "# function to print name \n",
    "\n",
    "def hello(nm):\n",
    "    print(f\"hello, {nm}\")\n",
    "\n",
    "name = input(\"getname?\")\n",
    "hello(name)"
   ]
  },
  {
   "cell_type": "code",
   "execution_count": 14,
   "metadata": {},
   "outputs": [
    {
     "name": "stdout",
     "output_type": "stream",
     "text": [
      "hello, world\n"
     ]
    }
   ],
   "source": [
    "# FUNCTIONs\n",
    "\n",
    "def main():\n",
    "    name = input(\"get name?\")\n",
    "    if name:\n",
    "        hello(name)\n",
    "    else:\n",
    "        hello()\n",
    "\n",
    "def hello(to=\"world\"):\n",
    "    print(f\"hello, {to}\")\n",
    "\n",
    "main()"
   ]
  },
  {
   "cell_type": "code",
   "execution_count": null,
   "metadata": {},
   "outputs": [
    {
     "name": "stdout",
     "output_type": "stream",
     "text": [
      "square of num is 25\n"
     ]
    }
   ],
   "source": [
    "# Square\n",
    "\n",
    "\n",
    "def square(n):\n",
    "    return n*n\n",
    "\n",
    "def main():\n",
    "    num = int(input(\"get num\"))\n",
    "    print(\"square of num is\",square(num))\n",
    "\n",
    "main()\n"
   ]
  },
  {
   "cell_type": "code",
   "execution_count": null,
   "metadata": {},
   "outputs": [
    {
     "name": "stdout",
     "output_type": "stream",
     "text": [
      "equal\n"
     ]
    }
   ],
   "source": [
    "# Conditional statements\n",
    "\n",
    "x = int(input(\"get x\"))\n",
    "y = int(input(\"get y\"))\n",
    "\n",
    "if x<y:\n",
    "    print(\"x less y\") # all 3 if check all the conditions even we have true so change to elif\n",
    "elif x>y:\n",
    "    print(\"y is greater\") # only check next question if the above is false\n",
    "else:\n",
    "    print(\"equal\")"
   ]
  },
  {
   "cell_type": "code",
   "execution_count": null,
   "metadata": {},
   "outputs": [
    {
     "name": "stdout",
     "output_type": "stream",
     "text": [
      "even\n"
     ]
    }
   ],
   "source": [
    "# Even or Odd\n",
    "\n",
    "def main():\n",
    "    num = int(input(\"get num\"))\n",
    "    if iseven(num):\n",
    "        print(\"even\")\n",
    "    else:\n",
    "        print(\"odd\")\n",
    "\n",
    "def iseven(n):\n",
    "    if n%2 == 0:  # return(n%2 == 0)\n",
    "        return True\n",
    "\n",
    "main()"
   ]
  },
  {
   "cell_type": "code",
   "execution_count": 17,
   "metadata": {},
   "outputs": [
    {
     "ename": "SyntaxError",
     "evalue": "invalid syntax (2436784764.py, line 5)",
     "output_type": "error",
     "traceback": [
      "\u001b[0;36m  Cell \u001b[0;32mIn[17], line 5\u001b[0;36m\u001b[0m\n\u001b[0;31m    match name:\u001b[0m\n\u001b[0m          ^\u001b[0m\n\u001b[0;31mSyntaxError\u001b[0m\u001b[0;31m:\u001b[0m invalid syntax\n"
     ]
    }
   ],
   "source": [
    "# MATCH CASE\n",
    "\n",
    "name = input(\"get the name\")\n",
    "\n",
    "match name: \n",
    "    case \"harry\" | \"hermoine\" | \"ron\": # verson 3.10\n",
    "        print(\"griffindor\")\n",
    "    case \"draco\":\n",
    "        print(\"slytherin\")\n",
    "    case _:\n",
    "        print(\"who?\")"
   ]
  },
  {
   "cell_type": "code",
   "execution_count": null,
   "metadata": {},
   "outputs": [
    {
     "name": "stdout",
     "output_type": "stream",
     "text": [
      "meaow\n",
      "meaow\n"
     ]
    }
   ],
   "source": [
    "# While Loop\n",
    "\n",
    "i = 1\n",
    "while(i <= 2):\n",
    "    print(\"meaow\")\n",
    "    i = i+1 # i += 1"
   ]
  },
  {
   "cell_type": "code",
   "execution_count": 20,
   "metadata": {},
   "outputs": [
    {
     "name": "stdout",
     "output_type": "stream",
     "text": [
      "bhu\n",
      "bhu\n"
     ]
    }
   ],
   "source": [
    "while True:\n",
    "    num = int(input(\"give num\"))\n",
    "    if num > 0:\n",
    "        break;\n",
    "\n",
    "for i in range(num):\n",
    "    print(\"bhu\")"
   ]
  },
  {
   "cell_type": "code",
   "execution_count": null,
   "metadata": {},
   "outputs": [
    {
     "name": "stdout",
     "output_type": "stream",
     "text": [
      "bhu\n",
      "bhu\n",
      "rahul\n",
      "mahesh\n"
     ]
    }
   ],
   "source": [
    "# Lists to read and print \n",
    "\n",
    "students = [\"bhu\", \"rahul\", \"mahesh\"]\n",
    "\n",
    "print(students[0])\n",
    "\n",
    "for i in students:\n",
    "    print(i)"
   ]
  },
  {
   "cell_type": "code",
   "execution_count": 34,
   "metadata": {},
   "outputs": [
    {
     "name": "stdout",
     "output_type": "stream",
     "text": [
      "hermoine, griffendor\n",
      "harry,griffendor\n",
      "ron,griffendor\n"
     ]
    }
   ],
   "source": [
    "#dict\n",
    "\n",
    "students = {\"hermoine\" : \" griffendor\", \"harry\" : \"griffendor\", \"ron\" : \"griffendor\"}\n",
    "\n",
    "for i in students:\n",
    "    print(i, students[i], sep = \",\")\n"
   ]
  },
  {
   "cell_type": "code",
   "execution_count": null,
   "metadata": {},
   "outputs": [
    {
     "name": "stdout",
     "output_type": "stream",
     "text": [
      "harmoine , griff , outter\n",
      "harry , griff , stag\n",
      "ron , griff , jack\n",
      "draco , slyth , None\n"
     ]
    }
   ],
   "source": [
    "# List of dict generally like json \n",
    "\n",
    "students = [\n",
    "    {\"name\": \"harmoine\", \"house\" : \"griff\", \"patronous\" : \"outter\"},\n",
    "    {\"name\": \"harry\", \"house\" : \"griff\", \"patronous\" : \"stag\"},\n",
    "    {\"name\": \"ron\", \"house\" : \"griff\", \"patronous\" : \"jack\"},\n",
    "    {\"name\": \"draco\", \"house\" : \"slyth\", \"patronous\" : None}\n",
    "]\n",
    "\n",
    "for i in students:\n",
    "    print(i[\"name\"], i[\"house\"], i[\"patronous\"], sep = \" , \")"
   ]
  },
  {
   "cell_type": "code",
   "execution_count": null,
   "metadata": {},
   "outputs": [
    {
     "name": "stdout",
     "output_type": "stream",
     "text": [
      "# # # # \n",
      "# # # # \n",
      "# # # # \n",
      "# # # # \n"
     ]
    }
   ],
   "source": [
    "# For loops in functions\n",
    "\n",
    "def main():\n",
    "    num = int(input(\"get num\"))\n",
    "    square(num)\n",
    "\n",
    "def square(size):\n",
    "    for i in range(size): #print(\"#\"*size)\n",
    "        for j in range(size):\n",
    "            print(\"#\", end = \" \")\n",
    "        print()\n",
    "\n",
    "main()"
   ]
  },
  {
   "cell_type": "code",
   "execution_count": null,
   "metadata": {},
   "outputs": [
    {
     "name": "stdout",
     "output_type": "stream",
     "text": [
      "2\n"
     ]
    }
   ],
   "source": [
    "# Exception handling\n",
    "\n",
    "try:\n",
    "    num = int(input(\"get num\"))\n",
    "    print(num)\n",
    "except ValueError: # you can add else to this as well\n",
    "    print(\"not int\")"
   ]
  },
  {
   "cell_type": "code",
   "execution_count": 47,
   "metadata": {},
   "outputs": [
    {
     "name": "stdout",
     "output_type": "stream",
     "text": [
      "7\n"
     ]
    }
   ],
   "source": [
    "# Libraries random, shuffle\n",
    "\n",
    "import random\n",
    "\n",
    "num = random.randint(1,10)\n",
    "print(num)"
   ]
  },
  {
   "cell_type": "code",
   "execution_count": null,
   "metadata": {},
   "outputs": [
    {
     "name": "stdout",
     "output_type": "stream",
     "text": [
      "bhuvana\n",
      "harry\n",
      "rahul\n"
     ]
    }
   ],
   "source": [
    "# List \n",
    "names = []\n",
    "\n",
    "for i in range(3):\n",
    "    name = input(\"get name\")\n",
    "    names.append(name)\n",
    "\n",
    "for name in sorted(names): #sorted in for loops\n",
    "    print(name)"
   ]
  },
  {
   "cell_type": "code",
   "execution_count": 8,
   "metadata": {},
   "outputs": [
    {
     "name": "stdout",
     "output_type": "stream",
     "text": [
      "bhu from griff\n"
     ]
    }
   ],
   "source": [
    "# Tuple return value , immutable that the data cannot be changed \n",
    "#list data can be accessed and changed but not tuple\n",
    "\n",
    "def main():\n",
    "    name, house = get_student() # keep as student\n",
    "    print(f\"{name} from {house}\") # return values from tuple student[0]\n",
    "\n",
    "                                            # if student[0] == \"padma\":\n",
    "                                            #  student[1] = \"Raven claw\"  \n",
    "                                            #  ## this cannot be done because it is immutable\n",
    "def get_student():\n",
    "    name = input(\"get name\")\n",
    "    house = input(\"get house\")\n",
    "    return name, house # returns only one value that is tuple can use (name, house)\n",
    "\n",
    "if __name__ == \"__main__\":\n",
    "    main()"
   ]
  },
  {
   "cell_type": "code",
   "execution_count": 9,
   "metadata": {},
   "outputs": [
    {
     "name": "stdout",
     "output_type": "stream",
     "text": [
      "bhu from griff\n"
     ]
    }
   ],
   "source": [
    "# dictionary \n",
    "\n",
    "def main():\n",
    "    stud = get_stu()\n",
    "    print(f\"{stud['name']} from {stud['house']}\")\n",
    "\n",
    "def get_stu():\n",
    "    name = input(\"get name\")\n",
    "    house = input(\"get house\")\n",
    "    return {\"name\":name, \"house\":house}\n",
    "\n",
    "if __name__ == \"__main__\":\n",
    "    main()"
   ]
  },
  {
   "cell_type": "code",
   "execution_count": null,
   "metadata": {},
   "outputs": [
    {
     "name": "stdout",
     "output_type": "stream",
     "text": [
      "bhu from griff\n"
     ]
    }
   ],
   "source": [
    "# define class and use it with an object, OOPS CONCEPTS \n",
    "\n",
    "\n",
    "class Student:\n",
    "    def __init__(self, name, house):   # ... default initialization\n",
    "        self.name = name               # init method is instance method to initialize objects in python\n",
    "        self.house = house             # init used to create method for the class \n",
    "\n",
    "def main():\n",
    "    student = get_stu()\n",
    "    print(f\"{student.name} from {student.house}\")\n",
    "\n",
    "def get_stu():\n",
    "    name = input(\"get name\")        # in such case you can use variables student.name = input(\"get name\")\n",
    "    house = input(\"get house\")    \n",
    "    return  Student(name, house)      # this is a constructor that is calling the object\n",
    "                # just call student() class\n",
    "\n",
    "\n",
    "if __name__ == \"__main__\":\n",
    "    main()"
   ]
  },
  {
   "cell_type": "code",
   "execution_count": null,
   "metadata": {},
   "outputs": [
    {
     "name": "stdout",
     "output_type": "stream",
     "text": [
      "bhu from griffendor\n"
     ]
    }
   ],
   "source": [
    "# heck the input is valid, that can be done in class but not in dict \n",
    "# class is generally used for the real world entity representation and methods in it \n",
    "\n",
    "# class is the blueprint that is used to create one or more objects or methods\n",
    "\n",
    "\n",
    "class Student:\n",
    "    def __init__(self, name, house):  \n",
    "        if not name:\n",
    "            raise ValueError(\"Missing name\")        # using raise you can create your own exception \n",
    "        if house not in [\"griffendor\", \"Hufflepuff\", \"Ravenclaw\", \"Slytherin\"]: \n",
    "            raise ValueError(\"Invalid house\")       # list is case sensitive should give same way as given \n",
    "        self.name = name               \n",
    "        self.house = house    \n",
    "\n",
    "    def __str__(self):                              # str by default refer to current student object\n",
    "        return f\"{self.name} from {self.house}\"         \n",
    "\n",
    "def main():\n",
    "    student = get_stu()\n",
    "    print(f\"{student.name} from {student.house}\")  # init and str methods are called automatically\n",
    "\n",
    "    # if we create our own method or function in class we should call it \n",
    "\n",
    "def get_stu():\n",
    "    name = input(\"get name\")        \n",
    "    house = input(\"get house\")    \n",
    "    return  Student(name, house)      \n",
    "   \n",
    "\n",
    "\n",
    "if __name__ == \"__main__\":\n",
    "    main()"
   ]
  },
  {
   "cell_type": "code",
   "execution_count": null,
   "metadata": {},
   "outputs": [],
   "source": []
  }
 ],
 "metadata": {
  "kernelspec": {
   "display_name": "Python 3",
   "language": "python",
   "name": "python3"
  },
  "language_info": {
   "codemirror_mode": {
    "name": "ipython",
    "version": 3
   },
   "file_extension": ".py",
   "mimetype": "text/x-python",
   "name": "python",
   "nbconvert_exporter": "python",
   "pygments_lexer": "ipython3",
   "version": "3.9.6"
  }
 },
 "nbformat": 4,
 "nbformat_minor": 2
}
