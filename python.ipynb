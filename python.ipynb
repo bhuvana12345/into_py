{
 "cells": [
  {
   "cell_type": "code",
   "execution_count": 3,
   "metadata": {},
   "outputs": [
    {
     "name": "stdout",
     "output_type": "stream",
     "text": [
      "7\n"
     ]
    }
   ],
   "source": [
    "x = input(\"get x\")\n",
    "y = input(\"get y\")\n",
    "\n",
    "z = int(x)+int(y)\n",
    "print(z)"
   ]
  },
  {
   "cell_type": "code",
   "execution_count": 5,
   "metadata": {},
   "outputs": [
    {
     "name": "stdout",
     "output_type": "stream",
     "text": [
      "hello, bhu\n"
     ]
    }
   ],
   "source": [
    "def hello(nm):\n",
    "    print(f\"hello, {nm}\")\n",
    "\n",
    "name = input(\"getname?\")\n",
    "hello(name)"
   ]
  },
  {
   "cell_type": "code",
   "execution_count": 14,
   "metadata": {},
   "outputs": [
    {
     "name": "stdout",
     "output_type": "stream",
     "text": [
      "hello, world\n"
     ]
    }
   ],
   "source": [
    "# FUNCTIONs\n",
    "\n",
    "def main():\n",
    "    name = input(\"get name?\")\n",
    "    if name:\n",
    "        hello(name)\n",
    "    else:\n",
    "        hello()\n",
    "\n",
    "def hello(to=\"world\"):\n",
    "    print(f\"hello, {to}\")\n",
    "\n",
    "main()"
   ]
  },
  {
   "cell_type": "code",
   "execution_count": null,
   "metadata": {},
   "outputs": [
    {
     "name": "stdout",
     "output_type": "stream",
     "text": [
      "square of num is 25\n"
     ]
    }
   ],
   "source": [
    "# Square\n",
    "\n",
    "\n",
    "def square(n):\n",
    "    return n*n\n",
    "\n",
    "def main():\n",
    "    num = int(input(\"get num\"))\n",
    "    print(\"square of num is\",square(num))\n",
    "\n",
    "main()\n"
   ]
  },
  {
   "cell_type": "code",
   "execution_count": 19,
   "metadata": {},
   "outputs": [
    {
     "name": "stdout",
     "output_type": "stream",
     "text": [
      "equal\n"
     ]
    }
   ],
   "source": [
    "# Conditional statements\n",
    "x = int(input(\"get x\"))\n",
    "y = int(input(\"get y\"))\n",
    "\n",
    "if x<y:\n",
    "    print(\"x less y\") # all 3 if check all the conditions even we have true so change to elif\n",
    "elif x>y:\n",
    "    print(\"y is greater\") # only check next question if the above is false\n",
    "else:\n",
    "    print(\"equal\")"
   ]
  },
  {
   "cell_type": "code",
   "execution_count": null,
   "metadata": {},
   "outputs": [
    {
     "name": "stdout",
     "output_type": "stream",
     "text": [
      "even\n"
     ]
    }
   ],
   "source": [
    "# Even or Odd\n",
    "\n",
    "def main():\n",
    "    num = int(input(\"get num\"))\n",
    "    if iseven(num):\n",
    "        print(\"even\")\n",
    "    else:\n",
    "        print(\"odd\")\n",
    "\n",
    "def iseven(n):\n",
    "    if n%2 == 0:  # return(n%2 == 0)\n",
    "        return True\n",
    "\n",
    "main()"
   ]
  },
  {
   "cell_type": "code",
   "execution_count": 15,
   "metadata": {},
   "outputs": [
    {
     "ename": "SyntaxError",
     "evalue": "invalid syntax (2436784764.py, line 5)",
     "output_type": "error",
     "traceback": [
      "\u001b[0;36m  Cell \u001b[0;32mIn[15], line 5\u001b[0;36m\u001b[0m\n\u001b[0;31m    match name:\u001b[0m\n\u001b[0m          ^\u001b[0m\n\u001b[0;31mSyntaxError\u001b[0m\u001b[0;31m:\u001b[0m invalid syntax\n"
     ]
    }
   ],
   "source": [
    "# MATCH CASE\n",
    "\n",
    "name = input(\"get the name\")\n",
    "\n",
    "match name: \n",
    "    case \"harry\" | \"hermoine\" | \"ron\": # verson 3.10\n",
    "        print(\"griffindor\")\n",
    "    case \"draco\":\n",
    "        print(\"slytherin\")\n",
    "    case _:\n",
    "        print(\"who?\")"
   ]
  },
  {
   "cell_type": "code",
   "execution_count": null,
   "metadata": {},
   "outputs": [
    {
     "name": "stdout",
     "output_type": "stream",
     "text": [
      "meaow\n",
      "meaow\n"
     ]
    }
   ],
   "source": [
    "# While Loop\n",
    "\n",
    "i = 1\n",
    "while(i <= 2):\n",
    "    print(\"meaow\")\n",
    "    i = i+1 # i += 1"
   ]
  },
  {
   "cell_type": "code",
   "execution_count": 20,
   "metadata": {},
   "outputs": [
    {
     "name": "stdout",
     "output_type": "stream",
     "text": [
      "bhu\n",
      "bhu\n"
     ]
    }
   ],
   "source": [
    "while True:\n",
    "    num = int(input(\"give num\"))\n",
    "    if num > 0:\n",
    "        break;\n",
    "\n",
    "for i in range(num):\n",
    "    print(\"bhu\")"
   ]
  },
  {
   "cell_type": "code",
   "execution_count": 33,
   "metadata": {},
   "outputs": [
    {
     "name": "stdout",
     "output_type": "stream",
     "text": [
      "bhu\n",
      "bhu\n",
      "rahul\n",
      "mahesh\n"
     ]
    }
   ],
   "source": [
    "students = [\"bhu\", \"rahul\", \"mahesh\"]\n",
    "\n",
    "print(students[0])\n",
    "\n",
    "for i in students:\n",
    "    print(i)"
   ]
  },
  {
   "cell_type": "code",
   "execution_count": 34,
   "metadata": {},
   "outputs": [
    {
     "name": "stdout",
     "output_type": "stream",
     "text": [
      "hermoine, griffendor\n",
      "harry,griffendor\n",
      "ron,griffendor\n"
     ]
    }
   ],
   "source": [
    "#dict\n",
    "\n",
    "students = {\"hermoine\" : \" griffendor\", \"harry\" : \"griffendor\", \"ron\" : \"griffendor\"}\n",
    "\n",
    "for i in students:\n",
    "    print(i, students[i], sep = \",\")\n"
   ]
  },
  {
   "cell_type": "code",
   "execution_count": 36,
   "metadata": {},
   "outputs": [
    {
     "name": "stdout",
     "output_type": "stream",
     "text": [
      "harmoine , griff , outter\n",
      "harry , griff , stag\n",
      "ron , griff , jack\n",
      "draco , slyth , None\n"
     ]
    }
   ],
   "source": [
    "students = [\n",
    "    {\"name\": \"harmoine\", \"house\" : \"griff\", \"patronous\" : \"outter\"},\n",
    "    {\"name\": \"harry\", \"house\" : \"griff\", \"patronous\" : \"stag\"},\n",
    "    {\"name\": \"ron\", \"house\" : \"griff\", \"patronous\" : \"jack\"},\n",
    "    {\"name\": \"draco\", \"house\" : \"slyth\", \"patronous\" : None}\n",
    "]\n",
    "\n",
    "for i in students:\n",
    "    print(i[\"name\"], i[\"house\"], i[\"patronous\"], sep = \" , \")"
   ]
  },
  {
   "cell_type": "code",
   "execution_count": 42,
   "metadata": {},
   "outputs": [
    {
     "name": "stdout",
     "output_type": "stream",
     "text": [
      "# # # # \n",
      "# # # # \n",
      "# # # # \n",
      "# # # # \n"
     ]
    }
   ],
   "source": [
    "def main():\n",
    "    num = int(input(\"get num\"))\n",
    "    square(num)\n",
    "\n",
    "def square(size):\n",
    "    for i in range(size): #print(\"#\"*size)\n",
    "        for j in range(size):\n",
    "            print(\"#\", end = \" \")\n",
    "        print()\n",
    "\n",
    "main()"
   ]
  },
  {
   "cell_type": "code",
   "execution_count": null,
   "metadata": {},
   "outputs": [
    {
     "name": "stdout",
     "output_type": "stream",
     "text": [
      "2\n"
     ]
    }
   ],
   "source": [
    "try:\n",
    "    num = int(input(\"get num\"))\n",
    "    print(num)\n",
    "except ValueError: # you can add else to this as well\n",
    "    print(\"not int\")"
   ]
  },
  {
   "cell_type": "code",
   "execution_count": 47,
   "metadata": {},
   "outputs": [
    {
     "name": "stdout",
     "output_type": "stream",
     "text": [
      "7\n"
     ]
    }
   ],
   "source": [
    "# Libraries random, shuffle\n",
    "\n",
    "import random\n",
    "\n",
    "num = random.randint(1,10)\n",
    "print(num)"
   ]
  },
  {
   "cell_type": "code",
   "execution_count": 3,
   "metadata": {},
   "outputs": [
    {
     "name": "stdout",
     "output_type": "stream",
     "text": [
      "bhu\n",
      "hsh\n",
      "jswj\n"
     ]
    }
   ],
   "source": [
    "# List \n",
    "names = []\n",
    "\n",
    "for i in range(3):\n",
    "    name = input(\"get name\")\n",
    "    names.append(name)\n",
    "\n",
    "for name in names:\n",
    "    print(name)"
   ]
  },
  {
   "cell_type": "code",
   "execution_count": null,
   "metadata": {},
   "outputs": [],
   "source": []
  }
 ],
 "metadata": {
  "kernelspec": {
   "display_name": "Python 3",
   "language": "python",
   "name": "python3"
  },
  "language_info": {
   "codemirror_mode": {
    "name": "ipython",
    "version": 3
   },
   "file_extension": ".py",
   "mimetype": "text/x-python",
   "name": "python",
   "nbconvert_exporter": "python",
   "pygments_lexer": "ipython3",
   "version": "3.9.6"
  }
 },
 "nbformat": 4,
 "nbformat_minor": 2
}
