{
 "cells": [
  {
   "cell_type": "markdown",
   "metadata": {},
   "source": [
    "#### Regular Expressions\n",
    "- generally used to validate the user input or code\n",
    "- re.search(pattern, string, flag =0)\n",
    "- for print(*obj, sep = '', end = '\\n') by default in doc of prnt we have next line if not print(\"bhu\" end = '')\n",
    "- patterns in re:\n",
    "- - (.)any character except a new line\n",
    "- - (*) 0 or more repetitions\n",
    "- - (+) one or more repetitions \n",
    "- - (?) 0 or 1 repetitions\n",
    "- - {m} m repetitions\n",
    "- - {m-n} m-n repetitions\n",
    "\n",
    "- - (^) should be start of string\n",
    "- - ($) end of the string/ before new line starts\n",
    "\n",
    "- - [] set of characters\n",
    "- - [^] omplementing the set means can be anything except [^@] except @\n",
    "\n",
    "- (.+) = (..*) {2 char and 0 or more}\n",
    "- a finite state automata is used to check for the regular expressions \n",
    "- use \\.edu to make sure that . here is actuall ending string \\ is called state charecter.\n",
    "- while using \\ check that we use raw string as r before the pattern in re.\n",
    "\n",
    "- \\w is a alpha numeric symol for [a-zA-Z0-9_]\n",
    "- \\d is decimal\n",
    "- \\D not a decimal\n",
    "- \\s whitespace\n",
    "- \\S not whitespace \n",
    "- \\w word char\n",
    "- \\W not word char\n",
    "\n",
    "- - (\\w|\\s) for words and space including.\n",
    "\n",
    "- (A|B|C) either A OR B OR C\n",
    "- (...) a group\n",
    "- (?:...) non-capturing version\n",
    "\n",
    "- FLAGS 3rd argument\n",
    "- - re.IGNORECASE\n",
    "- - re.MULTILINE\n",
    "- - re.DOTALL"
   ]
  },
  {
   "cell_type": "code",
   "execution_count": null,
   "metadata": {},
   "outputs": [
    {
     "name": "stdout",
     "output_type": "stream",
     "text": [
      "valid\n"
     ]
    }
   ],
   "source": [
    "email = input(\"enter email\").strip() # no extra spaces, to strip off\n",
    "\n",
    "if \"@\" in email and \".\" in email:\n",
    "    print(\"valid\")\n",
    "else:\n",
    "    print(\"invalid\")\n",
    "\n",
    "# if input = bhu@bh. it gives valid but it is false\n"
   ]
  },
  {
   "cell_type": "code",
   "execution_count": null,
   "metadata": {},
   "outputs": [],
   "source": [
    "email = input(\"enter email\").strip()\n",
    "\n",
    "username, domain = email.split(\"@\")\n",
    "\n",
    "if (username) and (domain.endswith(\".edu\")):\n",
    "    print(\"valid\")\n",
    "else:\n",
    "    print(\"invalid\")\n",
    "\n",
    "# input = bhu@.edu but still not valid we can check again with other boolean and functions."
   ]
  },
  {
   "cell_type": "code",
   "execution_count": 2,
   "metadata": {},
   "outputs": [
    {
     "name": "stdout",
     "output_type": "stream",
     "text": [
      "valid\n"
     ]
    }
   ],
   "source": [
    "import re\n",
    "\n",
    "email = input(\"enter email\").strip()\n",
    "\n",
    "if re.search(\"@\", email):\n",
    "    print(\"valid\")\n",
    "else:\n",
    "    print(\"invalid\") \n",
    "\n",
    "# input = @ valid,  but not we wanted"
   ]
  },
  {
   "cell_type": "code",
   "execution_count": null,
   "metadata": {},
   "outputs": [
    {
     "name": "stdout",
     "output_type": "stream",
     "text": [
      "valid\n"
     ]
    }
   ],
   "source": [
    "import re\n",
    "\n",
    "email = input(\"enter email\").strip()\n",
    "\n",
    "if re.search(r\".+@.+\\.edu\", email):\n",
    "    print(\"valid\")\n",
    "else:\n",
    "    print(\"invalid\")\n",
    "\n",
    "# input = bu@@@gmail.edu still valid."
   ]
  },
  {
   "cell_type": "code",
   "execution_count": 7,
   "metadata": {},
   "outputs": [
    {
     "name": "stdout",
     "output_type": "stream",
     "text": [
      "invalid\n"
     ]
    }
   ],
   "source": [
    "import re\n",
    "\n",
    "email = input(\"enter email\").strip()\n",
    "\n",
    "if re.search(r\"^.+@.+\\.edu$\", email):  # start and end with that ^ and $\n",
    "    print(\"valid\")\n",
    "else:\n",
    "    print(\"invalid\")"
   ]
  },
  {
   "cell_type": "code",
   "execution_count": null,
   "metadata": {},
   "outputs": [],
   "source": [
    "import re\n",
    "\n",
    "email = input(\"enter email\").strip()\n",
    "\n",
    "if re.search(r\"^[^@]+@[^@]+\\.edu$\", email):  # start and end with that ^ and $\n",
    "    print(\"valid\")\n",
    "else:\n",
    "    print(\"invalid\")"
   ]
  },
  {
   "cell_type": "code",
   "execution_count": 8,
   "metadata": {},
   "outputs": [
    {
     "name": "stdout",
     "output_type": "stream",
     "text": [
      "valid\n"
     ]
    }
   ],
   "source": [
    "import re\n",
    "\n",
    "email = input(\"enter email\").strip()\n",
    "\n",
    "if re.search(r\"^[a-zA-Z0-9_]+@[a-zA-Z_0-9]+\\.edu$\", email):  # start and end with that ^ and $\n",
    "    print(\"valid\")\n",
    "else:\n",
    "    print(\"invalid\")"
   ]
  },
  {
   "cell_type": "code",
   "execution_count": null,
   "metadata": {},
   "outputs": [
    {
     "name": "stdout",
     "output_type": "stream",
     "text": [
      "valid\n"
     ]
    }
   ],
   "source": [
    "import re\n",
    "\n",
    "email = input(\"enter email\").strip().lower() # accept any input and convert to lower case.\n",
    "\n",
    "if re.search(r\"^\\w+@\\w+\\.(edu|net|com|gov)$\", email, re.IGNORECASE):  # can accept list like edu,com,net,gov\n",
    "    print(\"valid\")                                  # we can use flag withpout changing the variable of input.\n",
    "else:\n",
    "    print(\"invalid\")\n",
    "\n",
    "# input = bhu@gmail.com"
   ]
  },
  {
   "cell_type": "code",
   "execution_count": null,
   "metadata": {},
   "outputs": [],
   "source": [
    "# if subdomain should be added, bhu@cs50.gmail.com\n",
    "# we need ? for 0 or 1 repetition of words with .\n",
    "\n",
    "import re\n",
    "\n",
    "email = input(\"enter email\").strip().lower() # accept any input and convert to lower case.\n",
    "\n",
    "if re.search(r\"^\\w+@(\\w+\\.)?\\w+\\.(edu|net|com|gov)$\", email, re.IGNORECASE):  # can accept list like edu,com,net,gov\n",
    "    print(\"valid\")                                  # we can use flag withpout changing the variable of input.\n",
    "else:\n",
    "    print(\"invalid\")\n",
    "\n",
    "# input = bhu@gmail.com"
   ]
  },
  {
   "cell_type": "markdown",
   "metadata": {},
   "source": [
    "#### REGX - take the user input and change the order as required\n",
    "\n",
    "- use of () can actually return the values in regex\n",
    "- re.match - used to match the starting without ^\n",
    "- re.fullmatch - used to match start and end without ^ and $\n",
    "- := walrus operator where we give if and only if then get the inputs as well.\n",
    "- := assign value and ask a boolean value to that.\n",
    "- if matches := re.search(r\"(.+), *(.+)$\", name): then condition\n"
   ]
  },
  {
   "cell_type": "code",
   "execution_count": null,
   "metadata": {},
   "outputs": [
    {
     "name": "stdout",
     "output_type": "stream",
     "text": [
      "hello, bhu,korrapati\n"
     ]
    }
   ],
   "source": [
    "import re\n",
    "\n",
    "name = input(\"get name?\").strip()\n",
    "\n",
    "matches = re.search(r\"(.+), *(.+)$\", name) # star 0 or more space can be \n",
    "\n",
    "if matches:\n",
    "    last, first = matches.groups() # search if user print last, first or simply first last \n",
    "    name = f\"{first},{last}\"\n",
    "\n",
    "# if matches:\n",
    "#     name = matches.group(2)+ \" \" +matches.group(1)     # another way to write it.\n",
    "\n",
    "\n",
    "\n",
    "print(f\"hello, {name}\")\n",
    "\n"
   ]
  },
  {
   "cell_type": "markdown",
   "metadata": {},
   "source": [
    "#### Twitter -  get the url and give username\n",
    "- we can use strip, split and replace for the strings\n",
    "- if we use replace but give only twitter.com/bhu then it will trow error \n",
    "- removeprefix() can be used.\n",
    "- but regex can be better used for the validation and such questions.\n",
    "- (?:  ) - this will be optional as well and no need to use () to cpature data.\n",
    "\n",
    "- - re.sub(pattern, repl, string, count=0, flags=0) [ replace a string with a pattern]\n",
    "- - re.split(pattern, string, maxsplit=0, flags=0) [can split with multiple char]\n",
    "- - re.findall(pattern, string, flags=0) [allow to search for multiple copies in string and manipulate all at once.]\n",
    "\n"
   ]
  },
  {
   "cell_type": "code",
   "execution_count": null,
   "metadata": {},
   "outputs": [
    {
     "name": "stdout",
     "output_type": "stream",
     "text": [
      "username: bhukorrapati\n"
     ]
    }
   ],
   "source": [
    "url = input(\"what is the url\").strip()\n",
    "\n",
    "username = url.replace(\"https://twitter.com/\", \"\")\n",
    "\n",
    "print(f\"username: {username}\")       # use formatted string to print always.\n",
    "\n",
    "# input = https://twitter.com/bhukorrapati"
   ]
  },
  {
   "cell_type": "code",
   "execution_count": null,
   "metadata": {},
   "outputs": [
    {
     "name": "stdout",
     "output_type": "stream",
     "text": [
      "username: bhuvana\n"
     ]
    }
   ],
   "source": [
    "import re\n",
    "\n",
    "url = input(\"what is the url\").strip()\n",
    "\n",
    "username = re.sub(\"(^https?://)?(www\\.)?twitter\\.com/\", \"\", url)\n",
    "\n",
    "print(f\"username: {username}\") "
   ]
  },
  {
   "cell_type": "code",
   "execution_count": null,
   "metadata": {},
   "outputs": [],
   "source": [
    "import re\n",
    "\n",
    "url = input(\"what is the url\").strip() #(?:  ) - this will be optional as well and no need to use () to cpature data\n",
    "\n",
    "if matches := re.search(r\"^(https?://)?(?:www/.)?twitter/(?.com|.net)/(.+)\", url, re.IGNORECASE):\n",
    "    print(f\"username\", matches.group(1))"
   ]
  },
  {
   "cell_type": "code",
   "execution_count": null,
   "metadata": {},
   "outputs": [],
   "source": []
  }
 ],
 "metadata": {
  "kernelspec": {
   "display_name": "Python 3",
   "language": "python",
   "name": "python3"
  },
  "language_info": {
   "codemirror_mode": {
    "name": "ipython",
    "version": 3
   },
   "file_extension": ".py",
   "mimetype": "text/x-python",
   "name": "python",
   "nbconvert_exporter": "python",
   "pygments_lexer": "ipython3",
   "version": "3.9.6"
  }
 },
 "nbformat": 4,
 "nbformat_minor": 2
}
